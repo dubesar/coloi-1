{
  "nbformat": 4,
  "nbformat_minor": 0,
  "metadata": {
    "colab": {
      "name": "coloi",
      "version": "0.3.2",
      "provenance": [],
      "collapsed_sections": [
        "_hglXVkjJOE_"
      ],
      "include_colab_link": true
    },
    "kernelspec": {
      "name": "python3",
      "display_name": "Python 3"
    },
    "accelerator": "GPU"
  },
  "cells": [
    {
      "cell_type": "markdown",
      "metadata": {
        "id": "view-in-github",
        "colab_type": "text"
      },
      "source": [
        "[View in Colaboratory](https://colab.research.google.com/github/shravankumar9892/coloi/blob/master/coloi.ipynb)"
      ]
    },
    {
      "metadata": {
        "id": "_hglXVkjJOE_",
        "colab_type": "text"
      },
      "cell_type": "markdown",
      "source": [
        "# COLOI\n",
        "You can visit the project webiste through this link: [COLOI](https://sites.google.com/view/coloi/)"
      ]
    },
    {
      "metadata": {
        "id": "NqsK_E9UczE-",
        "colab_type": "code",
        "colab": {}
      },
      "cell_type": "code",
      "source": [
        "!pip install -U -q PyDrive\n",
        "from pydrive.auth import GoogleAuth\n",
        "from pydrive.drive import GoogleDrive\n",
        "from google.colab import auth\n",
        "from oauth2client.client import GoogleCredentials"
      ],
      "execution_count": 0,
      "outputs": []
    },
    {
      "metadata": {
        "id": "P3OvIzb1dFEL",
        "colab_type": "code",
        "colab": {}
      },
      "cell_type": "code",
      "source": [
        "# Authenticate\n",
        "auth.authenticate_user()\n",
        "gauth = GoogleAuth()\n",
        "gauth.credentials = GoogleCredentials.get_application_default()\n",
        "drive = GoogleDrive(gauth)"
      ],
      "execution_count": 0,
      "outputs": []
    },
    {
      "metadata": {
        "id": "cmUBY8HRC7zR",
        "colab_type": "code",
        "colab": {
          "base_uri": "https://localhost:8080/",
          "height": 34
        },
        "outputId": "aa9ac361-40cc-41ab-f07c-1720ae16dcca"
      },
      "cell_type": "code",
      "source": [
        "# GPU Support \n",
        "import tensorflow as tf\n",
        "\n",
        "device_name = tf.test.gpu_device_name()\n",
        "if device_name != '/device:GPU:0':\n",
        "    raise SystemError('GPU device not found')\n",
        "print('Found GPU at: {}'.format(device_name))"
      ],
      "execution_count": 4,
      "outputs": [
        {
          "output_type": "stream",
          "text": [
            "Found GPU at: /device:GPU:0\n"
          ],
          "name": "stdout"
        }
      ]
    },
    {
      "metadata": {
        "id": "3yj3kollgEDS",
        "colab_type": "code",
        "colab": {}
      },
      "cell_type": "code",
      "source": [
        "# Loading image file into colab\n",
        "\n",
        "image_downloaded = drive.CreateFile({'id':'1HzIKgbXGKcAvwsygYOTb4S3Sqxtn96ns'})\n",
        "image_downloaded.GetContentFile('man.jpeg')"
      ],
      "execution_count": 0,
      "outputs": []
    },
    {
      "metadata": {
        "id": "EsyW7dxY8QaU",
        "colab_type": "text"
      },
      "cell_type": "markdown",
      "source": [
        "# **Object Detection**\n",
        "![Inception](https://www.tensorflow.org/images/AlexClassification.png)"
      ]
    },
    {
      "metadata": {
        "id": "mFgX_gqMPsIC",
        "colab_type": "code",
        "colab": {
          "base_uri": "https://localhost:8080/",
          "height": 34
        },
        "outputId": "ace11544-ab7a-445f-b93f-914acf7fef0a"
      },
      "cell_type": "code",
      "source": [
        "# Libraries\n",
        "\n",
        "import keras\n",
        "from keras.applications import inception_v3\n",
        "from keras.applications.imagenet_utils import decode_predictions\n",
        "import numpy as np\n",
        "import cv2\n",
        "import matplotlib.pyplot as plt\n",
        "%matplotlib inline"
      ],
      "execution_count": 8,
      "outputs": [
        {
          "output_type": "stream",
          "text": [
            "Using TensorFlow backend.\n"
          ],
          "name": "stderr"
        }
      ]
    },
    {
      "metadata": {
        "id": "UdUFLiMofe75",
        "colab_type": "code",
        "colab": {
          "base_uri": "https://localhost:8080/",
          "height": 34
        },
        "outputId": "68dbfa9c-5516-41bc-c6ed-80eea91abacb"
      },
      "cell_type": "code",
      "source": [
        "# Taking input\n",
        "# For object detection resize = (224, 224)\n",
        "# resize has to be a tuple \n",
        "\n",
        "def input_image(resize):                     \n",
        "  image_file = input('Enter the image file: ')\n",
        "  img = cv2.imread(image_file, 1)            # Remember wrong image name will not give you an error.\n",
        "  img = cv2.cvtColor(img, cv2.COLOR_BGR2RGB) # Converting bgr into rgb values.\n",
        "  if resize == None:\n",
        "    pass\n",
        "  else:\n",
        "    img = cv2.resize(img, resize)\n",
        "  return img.astype(float)\n",
        "\n",
        "# Expanding image dimension along axis 0 on calling the function input_image\n",
        "img = np.expand_dims(input_image(resize = (224, 224)), axis=0)"
      ],
      "execution_count": 24,
      "outputs": [
        {
          "output_type": "stream",
          "text": [
            "Enter the image file: man.jpeg\n"
          ],
          "name": "stdout"
        }
      ]
    },
    {
      "metadata": {
        "id": "7hwvFhGyfihm",
        "colab_type": "code",
        "colab": {}
      },
      "cell_type": "code",
      "source": [
        "# Process the image by subtracting the mean of R, G, B respectively with the elements of the image array\n",
        "\n",
        "input_img = inception_v3.preprocess_input(img.copy()) "
      ],
      "execution_count": 0,
      "outputs": []
    },
    {
      "metadata": {
        "id": "MpLsZIP-SVgs",
        "colab_type": "code",
        "colab": {
          "base_uri": "https://localhost:8080/",
          "height": 71
        },
        "outputId": "9fab1f23-35c6-4229-ea1d-18d04037e14f"
      },
      "cell_type": "code",
      "source": [
        "# Loading the pre-trained model\n",
        "\n",
        "model = inception_v3.InceptionV3(weights='imagenet')"
      ],
      "execution_count": 11,
      "outputs": [
        {
          "output_type": "stream",
          "text": [
            "Downloading data from https://github.com/fchollet/deep-learning-models/releases/download/v0.5/inception_v3_weights_tf_dim_ordering_tf_kernels.h5\n",
            "96116736/96112376 [==============================] - 6s 0us/step\n"
          ],
          "name": "stdout"
        }
      ]
    },
    {
      "metadata": {
        "id": "asckU6FEfq_W",
        "colab_type": "code",
        "colab": {
          "base_uri": "https://localhost:8080/",
          "height": 51
        },
        "outputId": "c5556234-dd25-46e8-ba50-627a0b885b5e"
      },
      "cell_type": "code",
      "source": [
        "# Prediction\n",
        "predictions = model.predict(input_img)\n",
        "predictions = decode_predictions(predictions)"
      ],
      "execution_count": 12,
      "outputs": [
        {
          "output_type": "stream",
          "text": [
            "Downloading data from https://s3.amazonaws.com/deep-learning-models/image-models/imagenet_class_index.json\n",
            "40960/35363 [==================================] - 0s 3us/step\n"
          ],
          "name": "stdout"
        }
      ]
    },
    {
      "metadata": {
        "id": "1D5qp7dUleCA",
        "colab_type": "code",
        "colab": {
          "base_uri": "https://localhost:8080/",
          "height": 136
        },
        "outputId": "96ee5f06-f395-47ec-ea6b-ffec2b1c3644"
      },
      "cell_type": "code",
      "source": [
        "print('This image contains: \\n\\n' + predictions[0][0][1]+ ' with a % probability of: ' + str(predictions[0][0][2]*100))\n",
        "print(predictions[0][1][1]+ ' with a % probability of: ' + str(predictions[0][1][2]*100))\n",
        "print(predictions[0][2][1]+ ' with a % probability of: ' + str(predictions[0][2][2]*100))\n",
        "print(predictions[0][3][1]+ ' with a % probability of: ' + str(predictions[0][3][2]*100))\n",
        "print(predictions[0][4][1]+ ' with a % probability of: ' + str(predictions[0][4][2]*100))"
      ],
      "execution_count": 13,
      "outputs": [
        {
          "output_type": "stream",
          "text": [
            "This image contains: \n",
            "\n",
            "groom with a % probability of: 98.27573895454407\n",
            "hair_spray with a % probability of: 0.2778796711936593\n",
            "gown with a % probability of: 0.260498421266675\n",
            "kimono with a % probability of: 0.21707143168896437\n",
            "bikini with a % probability of: 0.20790703129023314\n"
          ],
          "name": "stdout"
        }
      ]
    },
    {
      "metadata": {
        "id": "TNhyh4qp9V6w",
        "colab_type": "text"
      },
      "cell_type": "markdown",
      "source": [
        "# Color Spaces\n",
        "![Color Space](https://encrypted-tbn0.gstatic.com/images?q=tbn:ANd9GcRzCvTgNUnzRZzQ82_sTKnYj0GWqktiU8GlFNRr9TEPIDXSDPg5)"
      ]
    },
    {
      "metadata": {
        "id": "hOXnkeExFmRi",
        "colab_type": "text"
      },
      "cell_type": "markdown",
      "source": [
        "#### Various Types of Color Spaces available, run the code cell below"
      ]
    },
    {
      "metadata": {
        "id": "azOQmS73EzOw",
        "colab_type": "code",
        "colab": {}
      },
      "cell_type": "code",
      "source": [
        "def flags():\n",
        "  # To get flags, just run following code cell :\n",
        "  flags = [i for i in dir(cv2) if i.startswith('COLOR_')]\n",
        "  print(flags)\n",
        "  return None"
      ],
      "execution_count": 0,
      "outputs": []
    },
    {
      "metadata": {
        "id": "Q5xHUkvuFyrs",
        "colab_type": "text"
      },
      "cell_type": "markdown",
      "source": [
        "#### Taking the input"
      ]
    },
    {
      "metadata": {
        "id": "2dgulhzg9Us5",
        "colab_type": "code",
        "colab": {
          "base_uri": "https://localhost:8080/",
          "height": 34
        },
        "outputId": "6d5b0b5f-832c-4227-dad5-bb1291038151"
      },
      "cell_type": "code",
      "source": [
        "image_file = input('Enter the image file: ')\n",
        "img = cv2.imread(image_file, 1)\n",
        "img = cv2.cvtColor(img, cv2.COLOR_BGR2RGB)"
      ],
      "execution_count": 15,
      "outputs": [
        {
          "output_type": "stream",
          "text": [
            "Enter the image file: man.jpeg\n"
          ],
          "name": "stdout"
        }
      ]
    },
    {
      "metadata": {
        "id": "hO5l_DqCGAXe",
        "colab_type": "text"
      },
      "cell_type": "markdown",
      "source": [
        "#### Color Space Conversion"
      ]
    },
    {
      "metadata": {
        "id": "2tzyQOgkDtLF",
        "colab_type": "code",
        "colab": {}
      },
      "cell_type": "code",
      "source": [
        "# Find suitable flag values from the function flags\n",
        "\n",
        "def color_spaces(image, flag, save = False, show = True):\n",
        "  img = cv2.cvtColor(image, flag)\n",
        "  if show == True:\n",
        "    plt.imshow(img)\n",
        "    plt.show()\n",
        "  else:\n",
        "    pass\n",
        "  if save == True:\n",
        "    cv2.imwrite(input('Image shall be saved with which name? ', img))"
      ],
      "execution_count": 0,
      "outputs": []
    },
    {
      "metadata": {
        "id": "Y6IwjlA4Jssw",
        "colab_type": "text"
      },
      "cell_type": "markdown",
      "source": [
        "# Image Colorization\n",
        "![Colorization](data:image/jpeg;base64,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)"
      ]
    },
    {
      "metadata": {
        "id": "MAErcFSMJrbD",
        "colab_type": "code",
        "colab": {}
      },
      "cell_type": "code",
      "source": [
        "from keras.layers import Conv2D, UpSampling2D, InputLayer, Conv2DTranspose\n",
        "from keras.layers import Activation, Dense, Dropout, Flatten\n",
        "from keras.layers.normalization import BatchNormalization\n",
        "from keras.models import Sequential\n",
        "from keras.preprocessing.image import ImageDataGenerator, array_to_img, img_to_array, load_img\n",
        "from skimage.color import rgb2lab, lab2rgb, rgb2gray, xyz2lab\n",
        "from skimage.io import imsave\n",
        "import numpy as np\n",
        "import os\n",
        "import random\n",
        "import tensorflow as tf"
      ],
      "execution_count": 0,
      "outputs": []
    },
    {
      "metadata": {
        "id": "tQIdynTx-B8H",
        "colab_type": "text"
      },
      "cell_type": "markdown",
      "source": [
        "**Preprocessing**"
      ]
    },
    {
      "metadata": {
        "id": "1vePkiw9-E8J",
        "colab_type": "code",
        "colab": {}
      },
      "cell_type": "code",
      "source": [
        "def LUV(image, conversion = 1, inter = cv2.INTER_AREA):\n",
        "    # Instead of loading images from the array, I'm doing everything again here so that it shouldn't give memory error.\n",
        "    img = cv2.imread(image, 1)\n",
        "    img = cv2.resize(img, (400,400), interpolation = inter)\n",
        "    img = cv2.cvtColor(img, cv2.COLOR_BGR2RGB)\n",
        "    luv = (cv2.cvtColor(img,cv2.COLOR_RGB2LAB)+[0, 128, 128])/[100,255,255]\n",
        "    return luv[:,:,0], luv[:,:,1:]"
      ],
      "execution_count": 0,
      "outputs": []
    },
    {
      "metadata": {
        "id": "q_C_-xZlJO-F",
        "colab_type": "code",
        "colab": {}
      },
      "cell_type": "code",
      "source": [
        "X, y = LUV('man.jpeg')\n",
        "X = np.expand_dims(X, axis = 2)\n",
        "X = np.expand_dims(X, axis = 0)\n",
        "y = np.expand_dims(y, axis = 0)"
      ],
      "execution_count": 0,
      "outputs": []
    },
    {
      "metadata": {
        "id": "9CZxwKv38X33",
        "colab_type": "text"
      },
      "cell_type": "markdown",
      "source": [
        "**Model**"
      ]
    },
    {
      "metadata": {
        "id": "5r0eBGT88XZl",
        "colab_type": "code",
        "colab": {}
      },
      "cell_type": "code",
      "source": [
        "model = Sequential()\n",
        "model.add(InputLayer(input_shape=(None, None, 1)))\n",
        "model.add(Conv2D(8, (3, 3), activation='relu', padding='same', strides=2))\n",
        "model.add(Conv2D(8, (3, 3), activation='relu', padding='same'))\n",
        "model.add(Conv2D(16, (3, 3), activation='relu', padding='same'))\n",
        "model.add(Conv2D(16, (3, 3), activation='relu', padding='same', strides=2))\n",
        "model.add(Conv2D(32, (3, 3), activation='relu', padding='same'))\n",
        "model.add(Conv2D(32, (3, 3), activation='relu', padding='same', strides=2))\n",
        "model.add(UpSampling2D((2, 2)))\n",
        "model.add(Conv2D(32, (3, 3), activation='relu', padding='same'))\n",
        "model.add(UpSampling2D((2, 2)))\n",
        "model.add(Conv2D(16, (3, 3), activation='relu', padding='same'))\n",
        "model.add(UpSampling2D((2, 2)))\n",
        "model.add(Conv2D(2, (3, 3), activation='tanh', padding='same'))"
      ],
      "execution_count": 0,
      "outputs": []
    },
    {
      "metadata": {
        "id": "c5xuatgE8b1X",
        "colab_type": "code",
        "colab": {}
      },
      "cell_type": "code",
      "source": [
        "model.compile(optimizer='rmsprop', loss='mse')"
      ],
      "execution_count": 0,
      "outputs": []
    },
    {
      "metadata": {
        "id": "DRI8ndKKKj75",
        "colab_type": "text"
      },
      "cell_type": "markdown",
      "source": [
        "**Training**"
      ]
    },
    {
      "metadata": {
        "id": "PwQJuAneB_eT",
        "colab_type": "code",
        "colab": {}
      },
      "cell_type": "code",
      "source": [
        "with tf.device('/gpu:0'):\n",
        "  model.fit(x=X, y=y, batch_size=1, epochs=1000)"
      ],
      "execution_count": 0,
      "outputs": []
    },
    {
      "metadata": {
        "id": "8ViYKE6QKOkx",
        "colab_type": "code",
        "colab": {}
      },
      "cell_type": "code",
      "source": [
        "print(model.evaluate(X, y, batch_size=1))\n",
        "output = model.predict(X)\n",
        "output *= 128\n",
        "# Output colorizations\n",
        "cur = np.zeros((400, 400, 3))\n",
        "cur[:,:,0] = X[0][:,:,0]\n",
        "cur[:,:,1:] = output[0]\n",
        "cur = cv2.cvtColor(cur, cv2.COLOR_LAB2RGB)\n",
        "plt.imshow(cur)\n",
        "plt.show()\n",
        "imwrite(\"img_result.png\", cur)"
      ],
      "execution_count": 0,
      "outputs": []
    },
    {
      "metadata": {
        "id": "xGKc5aZ7LW38",
        "colab_type": "code",
        "colab": {}
      },
      "cell_type": "code",
      "source": [
        ""
      ],
      "execution_count": 0,
      "outputs": []
    }
  ]
}